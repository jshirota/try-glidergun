{
 "cells": [
  {
   "cell_type": "code",
   "execution_count": 1,
   "metadata": {},
   "outputs": [],
   "source": [
    "from glidergun import grid\n",
    "\n",
    "dem_m = grid(\"input/n55_e008_1arc_v3.bil\")\n",
    "\n",
    "dem_ft = dem_m * 3.28084\n",
    "\n",
    "dem_ft.save(\"output/dem_ft.tif\")"
   ]
  }
 ],
 "metadata": {
  "kernelspec": {
   "display_name": "jiro",
   "language": "python",
   "name": "python3"
  },
  "language_info": {
   "codemirror_mode": {
    "name": "ipython",
    "version": 3
   },
   "file_extension": ".py",
   "mimetype": "text/x-python",
   "name": "python",
   "nbconvert_exporter": "python",
   "pygments_lexer": "ipython3",
   "version": "3.12.3"
  }
 },
 "nbformat": 4,
 "nbformat_minor": 2
}
